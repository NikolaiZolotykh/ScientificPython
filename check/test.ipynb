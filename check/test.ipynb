{
 "cells": [
  {
   "cell_type": "markdown",
   "id": "a204b887",
   "metadata": {},
   "source": [
    "# Выполнил: Хромов Александр Эдуардович\n",
    "# Группа: 3821Б1ПР2 \n",
    "\n",
    "# Задача 11. Аппроксимация данных. Радиоактивный распад\n",
    "\n",
    "https://web.lemoyne.edu/giunta/classicalcs/rutherhalf.html\n",
    "\n",
    "Закон радиоактивного распада, открытый Э.Резерфрдом и Ф.Содди, утверждает, что активность радиоактивного вещества \n",
    "уменьшается во времени по экспоненциальному закону (геометрической прогресии). Таким образов, активность такого вещества можно характеризовать *периодом полураспада* – промежутком временем, в течении которого активность уменьшается в $2$ раза.\n",
    "Здесь мы приводим данные, опубликованные в работе [Rutherford E. A Radioactive Substance emitted from Thorium Compounds // Philosophical Magazine. 1900. 49. 1–14]. Из сосуда с торием, был выкачан воздух. В результате была выделена эманация тория (газ радон-220, или торон).\n",
    "Для измерения ее ионизирующей способности подавалось напряжение 100 В и измерялась сила тока, которая менялась во времени.\n",
    "\n",
    "```\n",
    " Время, с   Сила тока, А\n",
    "    0          1.00 \n",
    "   28          0.69\n",
    "   62          0.51\n",
    "  118          0.23\n",
    "  155          0.14\n",
    "  210          0.067\n",
    "  272          0.041\n",
    "  360          0.018\n",
    "```\n",
    "\n",
    "* Изобразите данные на графике.\n",
    "* Восстановите зависимость $y=c e^{\\alpha t}$. Воспользуйтесь двумя методами: \n",
    "    * логарифмированием сведите задачу к линейной задаче наименьших квадратов,\n",
    "    * нелинейным методом наименьших квадратов\n",
    "* Изобразите графики построенных зависимостей.\n",
    "* Насколько хорошо установленные зависимости приближают данные? Какая из них лучше?\n",
    "* Определите период полураспада радона-220 и сравните его с данными из интернета. Чем обусловлено расхождение (если оно есть)?"
   ]
  },
  {
   "cell_type": "markdown",
   "id": "1f6615c5",
   "metadata": {},
   "source": [
    "# Ход работы: "
   ]
  },
  {
   "cell_type": "code",
   "execution_count": 7,
   "id": "97d67b40",
   "metadata": {},
   "outputs": [],
   "source": [
    "import numpy as np\n",
    "import matplotlib.pyplot as plt\n",
    "import math\n",
    "from scipy import linalg\n",
    "from scipy import optimize\n",
    "%matplotlib inline"
   ]
  },
  {
   "cell_type": "markdown",
   "id": "dca46f2e",
   "metadata": {},
   "source": [
    "Импорт библиотек необходимых для работы."
   ]
  },
  {
   "cell_type": "code",
   "execution_count": 8,
   "id": "4f8bac48",
   "metadata": {},
   "outputs": [],
   "source": [
    "x = np.array([0, 28, 62, 118, 155, 210, 272, 360])\n",
    "y = np.array([1.00, 0.69, 0.51, 0.23, 0.14, 0.067, 0.041, 0.018])"
   ]
  },
  {
   "cell_type": "markdown",
   "id": "5c370af1",
   "metadata": {},
   "source": [
    "Инициализация массивов данных. Массив x - время, y - сила тока."
   ]
  },
  {
   "cell_type": "markdown",
   "id": "68a13a38",
   "metadata": {},
   "source": [
    "# 1. Изображение данных на графике при помощи функции plot() ."
   ]
  },
  {
   "cell_type": "code",
   "execution_count": 12,
   "id": "1175aafd",
   "metadata": {},
   "outputs": [
    {
     "data": {
      "image/png": "[encoded data removed]",
      "text/plain": [
       "<Figure size 432x288 with 1 Axes>"
      ]
     },
     "metadata": {
      "needs_background": "light"
     },
     "output_type": "display_data"
    }
   ],
   "source": [
    "plt.plot(x, y, color='tab:orange')\n",
    "plt.plot(x, y, 'o', color='tab:red')\n",
    "plt.grid()\n",
    "pass"
   ]
  },
  {
   "cell_type": "markdown",
   "id": "ebf545b0",
   "metadata": {},
   "source": [
    "*График 1*"
   ]
  },
  {
   "cell_type": "markdown",
   "id": "dcc1478f",
   "metadata": {},
   "source": [
    "# 2. Восстановление зависимости $y=c e^{\\alpha t}$\n",
    "\n",
    "2.1 *Через линейную задачу наименьших квадратов*\n",
    "\n",
    "Т.к $y=c e^{\\alpha t}$ не линейная функция, при помощи логарифмирования приводим её к линейной форме:\n",
    "\n",
    "$$\n",
    "\\ln y = \\ln c + \\alpha t.\n",
    "$$\n",
    "Обозначим\n",
    "$$\n",
    "y1 = \\ln y, \\qquad y2 = \\ln c.\n",
    "$$\n",
    "Теперь зависимость выглядит так:\n",
    "$$\n",
    "y1 = y2 + \\alpha t.\n",
    "$$\n",
    "\n",
    "Затем, при помощи функции polyfit() проводим аппроксимацию данных, а функцией semilogy() отображаем полученные данные на графике:"
   ]
  },
  {
   "cell_type": "code",
   "execution_count": 89,
   "id": "f5fcdf5d",
   "metadata": {},
   "outputs": [
    {
     "data": {
      "text/plain": [
       "(0.23493308938370291, -0.5812246846111059)"
      ]
     },
     "execution_count": 89,
     "metadata": {},
     "output_type": "execute_result"
    }
   ],
   "source": [
    "alpha, y2 = np.polyfit(t, np.log(y), 1)\n",
    "y2, alpha"
   ]
  },
  {
   "cell_type": "code",
   "execution_count": 90,
   "id": "883eac42",
   "metadata": {},
   "outputs": [
    {
     "data": {
      "text/plain": [
       "1.2648241357390708"
      ]
     },
     "execution_count": 90,
     "metadata": {},
     "output_type": "execute_result"
    }
   ],
   "source": [
    "c = np.exp(y2)\n",
    "c"
   ]
  },
  {
   "cell_type": "code",
   "execution_count": 91,
   "id": "d446e963",
   "metadata": {},
   "outputs": [
    {
     "data": {
      "image/png": "[encoded data removed]",
      "text/plain": [
       "<Figure size 432x288 with 1 Axes>"
      ]
     },
     "metadata": {
      "needs_background": "light"
     },
     "output_type": "display_data"
    }
   ],
   "source": [
    "T = len(x)\n",
    "t = np.arange(T)\n",
    "c = np.exp(y2)\n",
    "tt = np.linspace(0, T, 500)\n",
    "yy = c*np.exp(alpha*tt)\n",
    "plt.semilogy(tt, yy)\n",
    "plt.semilogy(t, y, 'o')\n",
    "plt.grid()\n",
    "plt.xticks(t[::1], y[::1])\n",
    "\n",
    "pass"
   ]
  },
  {
   "cell_type": "markdown",
   "id": "63bfb2a2",
   "metadata": {},
   "source": [
    "*График 2*"
   ]
  },
  {
   "cell_type": "markdown",
   "id": "c1491254",
   "metadata": {},
   "source": [
    "2.2 Аппроксимация данных нелинейным методом\n",
    "\n",
    "Этот вид аппроксимации реализуется функцией curve_fit(), но перед её использованием необходимо создать функцию, реализующую зависимость"
   ]
  },
  {
   "cell_type": "code",
   "execution_count": 92,
   "id": "efe2e128",
   "metadata": {},
   "outputs": [],
   "source": [
    "def expg(t, c, alpha):\n",
    "    return c * np.exp(alpha*t)\n",
    "params, _ = optimize.curve_fit(exponential_growth, t, y)"
   ]
  },
  {
   "cell_type": "code",
   "execution_count": 93,
   "id": "163360a3",
   "metadata": {},
   "outputs": [
    {
     "data": {
      "text/plain": [
       "(1.0333524993007952, -0.4494511400319082)"
      ]
     },
     "execution_count": 93,
     "metadata": {},
     "output_type": "execute_result"
    }
   ],
   "source": [
    "c, alpha = params\n",
    "c, alpha"
   ]
  },
  {
   "cell_type": "markdown",
   "id": "afc846df",
   "metadata": {},
   "source": [
    "Значения параметров c отличаются на 0.23, а значения alpha на 0.14"
   ]
  },
  {
   "cell_type": "code",
   "execution_count": 94,
   "id": "35a96fbf",
   "metadata": {
    "scrolled": true
   },
   "outputs": [
    {
     "data": {
      "image/png": "[encoded data removed]",
      "text/plain": [
       "<Figure size 432x288 with 1 Axes>"
      ]
     },
     "metadata": {
      "needs_background": "light"
     },
     "output_type": "display_data"
    }
   ],
   "source": [
    "tt = np.linspace(0, T, 500)\n",
    "yy = expg(tt, c, alpha)\n",
    "plt.semilogy(tt, yy)\n",
    "plt.semilogy(t, y, 'o')\n",
    "plt.grid()\n",
    "plt.xticks(t[::1], y[::1])\n",
    "\n",
    "pass"
   ]
  },
  {
   "cell_type": "markdown",
   "id": "64d81ec9",
   "metadata": {},
   "source": [
    "*График 3*"
   ]
  },
  {
   "cell_type": "markdown",
   "id": "bed6676f",
   "metadata": {},
   "source": [
    "Вывод:\n",
    "\n",
    "Исходя из графиков 2 и 3, и значений параметров можно сделать вывод, что метод линейной аппроксимации более точен в данной ситуации, т.к он наиболее точно отображает тренд из графика 1."
   ]
  },
  {
   "cell_type": "markdown",
   "id": "4c972b18",
   "metadata": {},
   "source": [
    "# 3. Период полураспада\n",
    "\n",
    "Исходя из определения: \"период полураспада – промежуток времени, в течении которого активность вещества уменьшается в  2  раза.\"\n",
    "\n",
    "Если активность вещества уменьшится в 2 раза, то и сила тока, проходящего через газ, уменьшится в два раза. Это значит, что согласно таблице с измерениями, период полураспада радона-220 будет равен ~62с.\n",
    "\n",
    "Согласно Википедии, период полураспада радона-220 равен 55.6с. Разницу в 6,4с можно объяснить тем, что данные из таблицы были получены в 1900-м году. Измерительные приборы и электроника того времени несопоставима с современной, поэтому, можно предположить, что результаты не совпадают именно по этой причине."
   ]
  }
 ],
 "metadata": {
  "kernelspec": {
   "display_name": "Python 3 (ipykernel)",
   "language": "python",
   "name": "python3"
  },
  "language_info": {
   "codemirror_mode": {
    "name": "ipython",
    "version": 3
   },
   "file_extension": ".py",
   "mimetype": "text/x-python",
   "name": "python",
   "nbconvert_exporter": "python",
   "pygments_lexer": "ipython3",
   "version": "3.9.7"
  }
 },
 "nbformat": 4,
 "nbformat_minor": 5
}
