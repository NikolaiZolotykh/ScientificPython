{
  "cells": [
    {
      "cell_type": "markdown",
      "metadata": {
        "id": "view-in-github",
        "colab_type": "text"
      },
      "source": [
        "<a href=\"https://colab.research.google.com/github/NikolaiZolotykh/ScientificPython/blob/master/16_05_%D0%A6%D0%9B%D0%9F_%D0%92%D0%BE%D0%BB%D0%BA%2C_%D0%BA%D0%BE%D0%B7%D0%B0_%D0%B8_%D0%BA%D0%B0%D0%BF%D1%83%D1%81%D1%82%D0%B0.ipynb\" target=\"_parent\"><img src=\"https://colab.research.google.com/assets/colab-badge.svg\" alt=\"Open In Colab\"/></a>"
      ]
    },
    {
      "cell_type": "markdown",
      "metadata": {
        "id": "AXLVZMBqa-Ky"
      },
      "source": [
        "# Задача Алкуина о волке козе и капусте"
      ]
    },
    {
      "cell_type": "code",
      "execution_count": null,
      "metadata": {
        "id": "u_yJObpza-Kz"
      },
      "outputs": [],
      "source": [
        "import pulp"
      ]
    },
    {
      "cell_type": "code",
      "execution_count": null,
      "metadata": {
        "id": "27qWfYBaa-K0"
      },
      "outputs": [],
      "source": [
        "prob = pulp.LpProblem(\"The Wolf, Goat and Cabbage Problem\", pulp.LpMinimize)"
      ]
    },
    {
      "cell_type": "code",
      "execution_count": null,
      "metadata": {
        "id": "vRi_UgN7a-K0"
      },
      "outputs": [],
      "source": [
        "T = 20 \n",
        "assert(T%2 == 0)\n",
        "peasant = pulp.LpVariable.dicts(\"Peasant\", range(T), 0, 1, pulp.LpInteger)\n",
        "wolf    = pulp.LpVariable.dicts(\"Wolf\",    range(T), 0, 1, pulp.LpInteger)\n",
        "goat    = pulp.LpVariable.dicts(\"Goat\",    range(T), 0, 1, pulp.LpInteger)\n",
        "cabbage = pulp.LpVariable.dicts(\"Cabbage\", range(T), 0, 1, pulp.LpInteger)"
      ]
    },
    {
      "cell_type": "code",
      "execution_count": null,
      "metadata": {
        "id": "dm0RLyQSa-K1",
        "outputId": "a5ab7a23-772c-4623-a79d-6d943efe787b"
      },
      "outputs": [
        {
          "data": {
            "text/plain": [
              "Peasant_4"
            ]
          },
          "execution_count": 4,
          "metadata": {},
          "output_type": "execute_result"
        }
      ],
      "source": [
        "peasant[4]"
      ]
    },
    {
      "cell_type": "markdown",
      "metadata": {
        "id": "kSUNgWnOa-K1"
      },
      "source": [
        "## Ограничения\n",
        "\n",
        "В начальный момент времени все находятся на $0$-м берегу:"
      ]
    },
    {
      "cell_type": "code",
      "execution_count": null,
      "metadata": {
        "id": "LJvTjfAqa-K2"
      },
      "outputs": [],
      "source": [
        "prob += peasant[0] == 0  \n",
        "prob += wolf[0]    == 0  \n",
        "prob += goat[0]    == 0  \n",
        "prob += cabbage[0] == 0  "
      ]
    },
    {
      "cell_type": "markdown",
      "metadata": {
        "id": "k4kwnOmBa-K2"
      },
      "source": [
        "В конечный момент времени все находятся на 1-м берегу:"
      ]
    },
    {
      "cell_type": "code",
      "execution_count": null,
      "metadata": {
        "id": "FddKeuDNa-K2"
      },
      "outputs": [],
      "source": [
        "prob += peasant[T - 1] == 1  \n",
        "prob += wolf[T - 1]    == 1  \n",
        "prob += goat[T - 1]    == 1  \n",
        "prob += cabbage[T - 1] == 1  "
      ]
    },
    {
      "cell_type": "markdown",
      "metadata": {
        "id": "W1p2Q_jFa-K2"
      },
      "source": [
        "Крестьянин ездит туда-сюда:"
      ]
    },
    {
      "cell_type": "code",
      "execution_count": null,
      "metadata": {
        "id": "qeln-U1Ta-K2"
      },
      "outputs": [],
      "source": [
        "for t in range(0, T, 2):\n",
        "    prob += peasant[t] == 0  \n",
        "    prob += peasant[t + 1] == 1"
      ]
    },
    {
      "cell_type": "markdown",
      "metadata": {
        "id": "PPKzPi2za-K3"
      },
      "source": [
        "За одну поездку крестьянин может перевезти что-то одно:"
      ]
    },
    {
      "cell_type": "code",
      "execution_count": null,
      "metadata": {
        "id": "w21aVFSka-K3"
      },
      "outputs": [],
      "source": [
        "for t in range(0, T - 1, 2):\n",
        "    prob += wolf[t] <= wolf[t + 1]\n",
        "    prob += goat[t] <= goat[t + 1]\n",
        "    prob += cabbage[t] <= cabbage[t + 1]\n",
        "    prob += wolf[t + 1] - wolf[t] + goat[t + 1] - goat[t] + cabbage[t + 1] - cabbage[t] <= 1\n",
        "for t in range(1, T - 1, 2):\n",
        "    prob += wolf[t] >= wolf[t + 1]\n",
        "    prob += goat[t] >= goat[t + 1]\n",
        "    prob += cabbage[t] >= cabbage[t + 1]\n",
        "    prob += wolf[t] - wolf[t + 1] + goat[t] - goat[t + 1] + cabbage[t] - cabbage[t + 1] <= 1"
      ]
    },
    {
      "cell_type": "markdown",
      "metadata": {
        "id": "GJJov0gsa-K3"
      },
      "source": [
        "Волк и коза могут находиться на одном берегу только в присутствии крестьянина:"
      ]
    },
    {
      "cell_type": "code",
      "execution_count": null,
      "metadata": {
        "id": "eC74T4m6a-K3"
      },
      "outputs": [],
      "source": [
        "for t in range(T):\n",
        "    prob += wolf[t] + goat[t] >= peasant[t]  \n",
        "for t in range(T):\n",
        "    prob += wolf[t] + goat[t] <= peasant[t] + 1"
      ]
    },
    {
      "cell_type": "markdown",
      "metadata": {
        "id": "TKMj8FMfa-K3"
      },
      "source": [
        "Коза и капуста могут находиться на одном берегу только в присутствии крестьянина:"
      ]
    },
    {
      "cell_type": "code",
      "execution_count": null,
      "metadata": {
        "id": "J9wDpo1Ya-K3"
      },
      "outputs": [],
      "source": [
        "for t in range(T):\n",
        "    prob += goat[t] + cabbage[t] >= peasant[t]  \n",
        "for t in range(T):\n",
        "    prob += goat[t] + cabbage[t] <= peasant[t] + 1"
      ]
    },
    {
      "cell_type": "code",
      "execution_count": null,
      "metadata": {
        "id": "HmkmUvYja-K4"
      },
      "outputs": [],
      "source": [
        "#prob.writeLP(\"WGC.lp\")"
      ]
    },
    {
      "cell_type": "markdown",
      "metadata": {
        "id": "IE6C3u1ta-K4"
      },
      "source": [
        "## Решаем задачу"
      ]
    },
    {
      "cell_type": "code",
      "execution_count": null,
      "metadata": {
        "id": "ALzXrXWka-K4",
        "outputId": "1ae0cd56-afb2-482c-c1f3-37e017e50b08"
      },
      "outputs": [
        {
          "name": "stdout",
          "output_type": "stream",
          "text": [
            "Status: Optimal\n"
          ]
        }
      ],
      "source": [
        "prob.solve()\n",
        "print(\"Status:\", pulp.LpStatus[prob.status])"
      ]
    },
    {
      "cell_type": "code",
      "execution_count": null,
      "metadata": {
        "id": "Yz3_yTTTa-K4",
        "outputId": "6b0a3cef-b74d-4efc-a784-46b42ffa38db"
      },
      "outputs": [
        {
          "name": "stdout",
          "output_type": "stream",
          "text": [
            "pwgc ||     \n",
            " w c || p g \n",
            "pw c ||   g \n",
            " w c || p g \n",
            "pwgc ||     \n",
            " w c || p g \n",
            "pwgc ||     \n",
            " w c || p g \n",
            "pwgc ||     \n",
            " w c || p g \n",
            "pwgc ||     \n",
            " w c || p g \n",
            "pwgc ||     \n",
            " w c || p g \n",
            "pw c ||   g \n",
            " w   || p gc\n",
            "pwg  ||    c\n",
            "  g  || pw c\n",
            "p g  ||  w c\n",
            "     || pwgc\n"
          ]
        }
      ],
      "source": [
        "for t in range(T):\n",
        "    if pulp.value(peasant[t]) == 0:\n",
        "        print('p', end='')\n",
        "    else:\n",
        "        print(' ', end='')\n",
        "    if pulp.value(wolf[t]) == 0:\n",
        "        print('w', end='')\n",
        "    else:\n",
        "        print(' ', end='')\n",
        "    if pulp.value(goat[t]) == 0:\n",
        "        print('g', end='')\n",
        "    else:\n",
        "        print(' ', end='')\n",
        "    if pulp.value(cabbage[t]) == 0:\n",
        "        print('c', end='')\n",
        "    else:\n",
        "        print(' ', end='')\n",
        "    print(' || ', end='')        \n",
        "    if pulp.value(peasant[t]) == 1:\n",
        "        print('p', end='')\n",
        "    else:\n",
        "        print(' ', end='')\n",
        "    if pulp.value(wolf[t]) == 1:\n",
        "        print('w', end='')\n",
        "    else:\n",
        "        print(' ', end='')\n",
        "    if pulp.value(goat[t]) == 1:\n",
        "        print('g', end='')\n",
        "    else:\n",
        "        print(' ', end='')\n",
        "    if pulp.value(cabbage[t]) == 1:\n",
        "        print('c', end='')\n",
        "    else:\n",
        "        print(' ', end='')\n",
        "    print()"
      ]
    }
  ],
  "metadata": {
    "kernelspec": {
      "display_name": "Python 3",
      "language": "python",
      "name": "python3"
    },
    "language_info": {
      "codemirror_mode": {
        "name": "ipython",
        "version": 3
      },
      "file_extension": ".py",
      "mimetype": "text/x-python",
      "name": "python",
      "nbconvert_exporter": "python",
      "pygments_lexer": "ipython3",
      "version": "3.7.3"
    },
    "colab": {
      "provenance": [],
      "include_colab_link": true
    }
  },
  "nbformat": 4,
  "nbformat_minor": 0
}