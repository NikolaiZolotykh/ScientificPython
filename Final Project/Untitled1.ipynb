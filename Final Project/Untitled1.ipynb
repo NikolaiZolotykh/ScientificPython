{
 "cells": [
  {
   "cell_type": "code",
   "execution_count": 15,
   "id": "725cefb3",
   "metadata": {},
   "outputs": [
    {
     "name": "stdout",
     "output_type": "stream",
     "text": [
      "Requirement already satisfied: numpy in c:\\users\\user\\appdata\\local\\programs\\python\\python37\\lib\\site-packages (1.21.6)\n"
     ]
    },
    {
     "name": "stderr",
     "output_type": "stream",
     "text": [
      "WARNING: You are using pip version 21.2.4; however, version 22.0.4 is available.\n",
      "You should consider upgrading via the 'c:\\users\\user\\appdata\\local\\programs\\python\\python37\\python.exe -m pip install --upgrade pip' command.\n"
     ]
    },
    {
     "name": "stdout",
     "output_type": "stream",
     "text": [
      "Requirement already satisfied: scipy in c:\\users\\user\\appdata\\local\\programs\\python\\python37\\lib\\site-packages (1.7.3)"
     ]
    },
    {
     "name": "stderr",
     "output_type": "stream",
     "text": [
      "WARNING: You are using pip version 21.2.4; however, version 22.0.4 is available.\n",
      "You should consider upgrading via the 'c:\\users\\user\\appdata\\local\\programs\\python\\python37\\python.exe -m pip install --upgrade pip' command.\n"
     ]
    },
    {
     "name": "stdout",
     "output_type": "stream",
     "text": [
      "\n",
      "Requirement already satisfied: numpy<1.23.0,>=1.16.5 in c:\\users\\user\\appdata\\local\\programs\\python\\python37\\lib\\site-packages (from scipy) (1.21.6)\n"
     ]
    },
    {
     "name": "stderr",
     "output_type": "stream",
     "text": [
      "ERROR: Could not find a version that satisfies the requirement scipy.optimize (from versions: none)\n",
      "ERROR: No matching distribution found for scipy.optimize\n",
      "WARNING: You are using pip version 21.2.4; however, version 22.0.4 is available.\n",
      "You should consider upgrading via the 'c:\\users\\user\\appdata\\local\\programs\\python\\python37\\python.exe -m pip install --upgrade pip' command.\n"
     ]
    }
   ],
   "source": [
    "!pip install numpy\n",
    "!pip install scipy\n",
    "!pip install scipy.optimize"
   ]
  },
  {
   "cell_type": "code",
   "execution_count": 16,
   "id": "fe9df0d2",
   "metadata": {},
   "outputs": [],
   "source": [
    "import numpy as np\n",
    "import scipy as sp\n",
    "from scipy.optimize import brentq"
   ]
  },
  {
   "cell_type": "markdown",
   "id": "2ee87788",
   "metadata": {},
   "source": [
    "<br>Величина кредита - <b>pv</b><br>Баланс после всех платежей - <b>fv = 0</b>"
   ]
  },
  {
   "cell_type": "code",
   "execution_count": 17,
   "id": "19d891c8",
   "metadata": {},
   "outputs": [],
   "source": [
    "pv = 100000\n",
    "fv = 0"
   ]
  },
  {
   "cell_type": "markdown",
   "id": "43fef9ff",
   "metadata": {},
   "source": [
    "<br>Величина периодического платежа (1 вариант) - <b>pmt1</b><br>Количество платежей (1 вариант) - <b>n1</b>"
   ]
  },
  {
   "cell_type": "code",
   "execution_count": 18,
   "id": "a6a36109",
   "metadata": {},
   "outputs": [],
   "source": [
    "pmt1 = -1500\n",
    "n1 = 120"
   ]
  },
  {
   "cell_type": "markdown",
   "id": "5ec6cba8",
   "metadata": {},
   "source": [
    "<br>Величина периодического платежа (2 вариант) - <b>pmt2</b><br>Количество платежей (2 вариант) - <b>n2</b>"
   ]
  },
  {
   "cell_type": "code",
   "execution_count": 19,
   "id": "4d471f9e",
   "metadata": {},
   "outputs": [],
   "source": [
    "pmt2 = -1250\n",
    "n2 = 180"
   ]
  },
  {
   "cell_type": "markdown",
   "id": "24720245",
   "metadata": {},
   "source": [
    "<br>Величина периодического платежа (3 вариант) - <b>pmt3</b><br>Количество платежей (3 вариант) - <b>n3</b>"
   ]
  },
  {
   "cell_type": "code",
   "execution_count": 20,
   "id": "88e343c4",
   "metadata": {},
   "outputs": [],
   "source": [
    "pmt3 = -1160\n",
    "n3 = 240"
   ]
  },
  {
   "cell_type": "code",
   "execution_count": 21,
   "id": "f88cd7d4",
   "metadata": {},
   "outputs": [],
   "source": [
    "def fun1(i):\n",
    "    return pv*(1+i)**n1 + pmt1*(((1+i)**n1-1)/i) + fv \n",
    "def fun2(i):\n",
    "    return pv*(1+i)**n2 + pmt2*(((1+i)**n2-1)/i) + fv \n",
    "def fun3(i):\n",
    "    return pv*(1+i)**n3 + pmt3*(((1+i)**n3-1)/i) + fv "
   ]
  },
  {
   "cell_type": "code",
   "execution_count": 22,
   "id": "904da329",
   "metadata": {},
   "outputs": [
    {
     "data": {
      "text/plain": [
       "0.010930603939868333"
      ]
     },
     "execution_count": 22,
     "metadata": {},
     "output_type": "execute_result"
    }
   ],
   "source": [
    "sol1 = brentq(fun1, 0.01, 1.0)\n",
    "sol1"
   ]
  },
  {
   "cell_type": "code",
   "execution_count": 23,
   "id": "c0ffff7f",
   "metadata": {},
   "outputs": [
    {
     "data": {
      "text/plain": [
       "0.01063980717924384"
      ]
     },
     "execution_count": 23,
     "metadata": {},
     "output_type": "execute_result"
    }
   ],
   "source": [
    "sol2 = brentq(fun2, 0.01, 1.0)\n",
    "sol2"
   ]
  },
  {
   "cell_type": "code",
   "execution_count": 24,
   "id": "8cb0896d",
   "metadata": {},
   "outputs": [
    {
     "data": {
      "text/plain": [
       "0.010697698792848072"
      ]
     },
     "execution_count": 24,
     "metadata": {},
     "output_type": "execute_result"
    }
   ],
   "source": [
    "sol3 = brentq(fun3, 0.01, 1.0)\n",
    "sol3"
   ]
  },
  {
   "cell_type": "markdown",
   "id": "eae3ef7a",
   "metadata": {},
   "source": [
    "<br>Функция, решающая уравнение $ PV*(1+i)^n + PMT*\\frac{(1+i)^n-1}{i} + FV = 0 $:"
   ]
  },
  {
   "cell_type": "code",
   "execution_count": 25,
   "id": "1f9d8480",
   "metadata": {},
   "outputs": [],
   "source": [
    "def solve_fun(pv, pmt, n, fv):\n",
    "    def fun(i):\n",
    "        return pv*(1+i)**n + pmt*((((1+i)**n)-1)/i) + fv\n",
    "    return brentq(fun, 0.001, 1.0)"
   ]
  },
  {
   "cell_type": "markdown",
   "id": "b30296a5",
   "metadata": {},
   "source": [
    "<br>Процентная ставка (1 вариант) - <b>i1</b>"
   ]
  },
  {
   "cell_type": "code",
   "execution_count": 26,
   "id": "7b391f94",
   "metadata": {},
   "outputs": [
    {
     "name": "stdout",
     "output_type": "stream",
     "text": [
      "0.010930603939676818\n"
     ]
    }
   ],
   "source": [
    "i1 = solve_fun(pv, pmt1, n1, fv)\n",
    "print(i1)"
   ]
  },
  {
   "cell_type": "markdown",
   "id": "26438621",
   "metadata": {},
   "source": [
    "<br>Процентная ставка (2 вариант) - <b>i2</b>"
   ]
  },
  {
   "cell_type": "code",
   "execution_count": 27,
   "id": "ca088616",
   "metadata": {},
   "outputs": [
    {
     "name": "stdout",
     "output_type": "stream",
     "text": [
      "0.01063980717901046\n"
     ]
    }
   ],
   "source": [
    "i2= solve_fun(pv, pmt2, n2, fv)\n",
    "print(i2)"
   ]
  },
  {
   "cell_type": "markdown",
   "id": "5267ddba",
   "metadata": {},
   "source": [
    "<br>Процентная ставка (3 вариант) - <b>i3</b>"
   ]
  },
  {
   "cell_type": "code",
   "execution_count": 28,
   "id": "6c0f669f",
   "metadata": {},
   "outputs": [
    {
     "name": "stdout",
     "output_type": "stream",
     "text": [
      "0.010697698792974464\n"
     ]
    }
   ],
   "source": [
    "i3= solve_fun(pv, pmt3, n3, fv)\n",
    "print(i3)"
   ]
  },
  {
   "cell_type": "markdown",
   "id": "c0767a45",
   "metadata": {},
   "source": [
    "<br>Годовые процентные ставки - <b>iy</b><sub>n</sub>"
   ]
  },
  {
   "cell_type": "code",
   "execution_count": 29,
   "id": "baf89032",
   "metadata": {},
   "outputs": [
    {
     "name": "stdout",
     "output_type": "stream",
     "text": [
      "I1year= 13.11672472761218 %\n",
      "I2year= 12.767768614812553 %\n",
      "I3year= 12.837238551569358 %\n"
     ]
    }
   ],
   "source": [
    "iy1 = 12*i1\n",
    "iy2 = 12*i2\n",
    "iy3 = 12*i3\n",
    "print(\"I1year=\", iy1*100,'%')\n",
    "print(\"I2year=\", iy2*100,'%')\n",
    "print(\"I3year=\", iy3*100,'%')"
   ]
  },
  {
   "cell_type": "markdown",
   "id": "50c87237",
   "metadata": {},
   "source": [
    "<h1>Вывод:</h1>\n",
    "<div>\n",
    "    Для решения был использован метод Брента как наиболее удобный, универсальный и популярный.\n",
    "    <ul>\n",
    "        <li>13.12% для варианта <b>1</b></li>\n",
    "        <li>12.77% для варианта <b>2</b></li>\n",
    "        <li>12.84% для варианта <b>3</b></li>\n",
    "    </ul>    \n",
    "</div>\n",
    "Наиболее хорошая годовая ставка оказалась под номером 2."
   ]
  }
 ],
 "metadata": {
  "kernelspec": {
   "display_name": "Python 3 (ipykernel)",
   "language": "python",
   "name": "python3"
  },
  "language_info": {
   "codemirror_mode": {
    "name": "ipython",
    "version": 3
   },
   "file_extension": ".py",
   "mimetype": "text/x-python",
   "name": "python",
   "nbconvert_exporter": "python",
   "pygments_lexer": "ipython3",
   "version": "3.7.0"
  }
 },
 "nbformat": 4,
 "nbformat_minor": 5
}
