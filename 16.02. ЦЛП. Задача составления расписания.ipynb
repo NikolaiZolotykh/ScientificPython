{
  "cells": [
    {
      "cell_type": "markdown",
      "metadata": {
        "id": "view-in-github",
        "colab_type": "text"
      },
      "source": [
        "<a href=\"https://colab.research.google.com/github/NikolaiZolotykh/ScientificPython/blob/master/16.02.%20%D0%A6%D0%9B%D0%9F.%20%D0%97%D0%B0%D0%B4%D0%B0%D1%87%D0%B0%20%D1%81%D0%BE%D1%81%D1%82%D0%B0%D0%B2%D0%BB%D0%B5%D0%BD%D0%B8%D1%8F%20%D1%80%D0%B0%D1%81%D0%BF%D0%B8%D1%81%D0%B0%D0%BD%D0%B8%D1%8F.ipynb\" target=\"_parent\"><img src=\"https://colab.research.google.com/assets/colab-badge.svg\" alt=\"Open In Colab\"/></a>"
      ]
    },
    {
      "cell_type": "code",
      "execution_count": null,
      "metadata": {
        "colab": {
          "base_uri": "https://localhost:8080/"
        },
        "id": "Gc00N6R5gSE2",
        "outputId": "1eeccf29-163d-4828-c904-ccf369dc7519"
      },
      "outputs": [
        {
          "output_type": "stream",
          "name": "stdout",
          "text": [
            "Looking in indexes: https://pypi.org/simple, https://us-python.pkg.dev/colab-wheels/public/simple/\n",
            "Collecting pulp\n",
            "  Downloading PuLP-2.7.0-py3-none-any.whl (14.3 MB)\n",
            "\u001b[2K     \u001b[90m━━━━━━━━━━━━━━━━━━━━━━━━━━━━━━━━━━━━━━━━\u001b[0m \u001b[32m14.3/14.3 MB\u001b[0m \u001b[31m71.9 MB/s\u001b[0m eta \u001b[36m0:00:00\u001b[0m\n",
            "\u001b[?25hInstalling collected packages: pulp\n",
            "Successfully installed pulp-2.7.0\n"
          ]
        }
      ],
      "source": [
        "!pip install pulp\n",
        "import pulp"
      ]
    },
    {
      "cell_type": "code",
      "execution_count": null,
      "metadata": {
        "id": "Mk4ulvLhgSE4"
      },
      "outputs": [],
      "source": [
        "m = 3 # количество учебных дисциплин (преподавателей)\n",
        "n = 3 # количество академических групп\n",
        "p = 4 # количество тактов времени"
      ]
    },
    {
      "cell_type": "code",
      "source": [
        "#m = 10 # количество учебных дисциплин (преподавателей)\n",
        "#n = 10 # количество академических групп\n",
        "#p = 12 # количество тактов времени"
      ],
      "metadata": {
        "id": "6I0a9VO6jG7F"
      },
      "execution_count": null,
      "outputs": []
    },
    {
      "cell_type": "code",
      "execution_count": null,
      "metadata": {
        "id": "sRYl8NAigSE5"
      },
      "outputs": [],
      "source": [
        "I = range(m) # множество учебных дисциплин\n",
        "J = range(n) # множество академических групп\n",
        "T = range(p) # множество тактов\n"
      ]
    },
    {
      "cell_type": "code",
      "execution_count": null,
      "metadata": {
        "id": "hh55eWddgSE5"
      },
      "outputs": [],
      "source": [
        "# x[i][j][k] = 1 означает, что в k-й такт у j-й группы проходит занятие по i-й дисциплине */\n",
        "x = pulp.LpVariable.dicts(\"x\", (I, J, T), 0, 1, pulp.LpInteger)"
      ]
    },
    {
      "cell_type": "code",
      "execution_count": null,
      "metadata": {
        "colab": {
          "base_uri": "https://localhost:8080/"
        },
        "id": "QOhqX9t4gSE6",
        "outputId": "b0159373-b512-4dc3-d286-1daac23902dc"
      },
      "outputs": [
        {
          "output_type": "execute_result",
          "data": {
            "text/plain": [
              "x_0_2_2"
            ]
          },
          "metadata": {},
          "execution_count": 5
        }
      ],
      "source": [
        "x[0][2][2]"
      ]
    },
    {
      "cell_type": "code",
      "execution_count": null,
      "metadata": {
        "colab": {
          "base_uri": "https://localhost:8080/"
        },
        "id": "ll8i2ENPgSE7",
        "outputId": "643ddd4c-ec3f-4a82-ff5d-8efad5a19076"
      },
      "outputs": [
        {
          "output_type": "stream",
          "name": "stderr",
          "text": [
            "/usr/local/lib/python3.8/dist-packages/pulp/pulp.py:1352: UserWarning: Spaces are not permitted in the name. Converted to '_'\n",
            "  warnings.warn(\"Spaces are not permitted in the name. Converted to '_'\")\n"
          ]
        }
      ],
      "source": [
        "prob = pulp.LpProblem(\"School Scheduling Problem\", pulp.LpMinimize)\n",
        "#prob += 0, \"Arbitrary Objective Function\" "
      ]
    },
    {
      "cell_type": "code",
      "execution_count": null,
      "metadata": {
        "id": "jIVKJPmvgSE8"
      },
      "outputs": [],
      "source": [
        "# У каждой группы по каждой дисциплине должно пройти ровно одно занятие:\n",
        "for i in I:\n",
        "    for j in J:\n",
        "        prob += pulp.lpSum([x[i][j][t] for t in T]) == 1"
      ]
    },
    {
      "cell_type": "code",
      "execution_count": null,
      "metadata": {
        "id": "X8jQ5WKbgSE8"
      },
      "outputs": [],
      "source": [
        "# в любой такт по каждой дисциплине проходит не более одного занятия во всех группах:\n",
        "for i in I:\n",
        "    for t in T:\n",
        "        prob += pulp.lpSum([x[i][j][t] for j in J]) <= 1"
      ]
    },
    {
      "cell_type": "code",
      "execution_count": null,
      "metadata": {
        "id": "vs4J2k1VgSE8"
      },
      "outputs": [],
      "source": [
        "# в любой такт у любой группы проходит не более одного занятия:\n",
        "for j in J:\n",
        "    for t in T:\n",
        "        prob += pulp.lpSum([x[i][j][t] for i in I]) <= 1"
      ]
    },
    {
      "cell_type": "code",
      "execution_count": null,
      "metadata": {
        "id": "K5F2WbMcgSE9"
      },
      "outputs": [],
      "source": [
        "# 1-й преподаватель не может проводить занятия 4-й парой:\n",
        "for j in J:\n",
        "    prob += x[0][j][3] == 0\n",
        "\n",
        "# 2-й преподаватель не может проводить занятия 3-й парой:\n",
        "for j in J:\n",
        "    prob += x[1][j][2] == 0\n",
        "\n",
        "# 2-я группа не может учиться 1-й парой:\n",
        "for i in I:\n",
        "    prob += x[i][1][0] == 0 \n",
        "\n",
        "# 3-я группа не может учиться 4-й парой    \n",
        "for i in I:\n",
        "    prob += x[i][2][3] == 0"
      ]
    },
    {
      "cell_type": "code",
      "execution_count": null,
      "metadata": {
        "colab": {
          "base_uri": "https://localhost:8080/"
        },
        "id": "ULj4NxC6gSE9",
        "outputId": "810ac2e0-08ed-4e5d-ecbe-7fbe85090160"
      },
      "outputs": [
        {
          "output_type": "stream",
          "name": "stdout",
          "text": [
            "Status: Optimal\n"
          ]
        }
      ],
      "source": [
        "prob.solve()\n",
        "print(\"Status:\", pulp.LpStatus[prob.status])\n"
      ]
    },
    {
      "cell_type": "code",
      "execution_count": null,
      "metadata": {
        "colab": {
          "base_uri": "https://localhost:8080/"
        },
        "id": "jve6S5sagSE9",
        "outputId": "307deb26-e340-441d-e842-c6320716c824"
      },
      "outputs": [
        {
          "output_type": "stream",
          "name": "stdout",
          "text": [
            "\n",
            "  Solution:\n",
            "\n",
            " \\\n",
            "  \\   Groups\n",
            " t \\\n",
            "    \\\n",
            "      0 1 2 3 4 5 6 7 8 9\n",
            " 0    2 . 7 5 1 0 4 6 8 9\n",
            " 1    7 6 8 9 3 . 0 1 4 5\n",
            " 2    3 2 9 8 6 4 7 . 5 0\n",
            " 3    . 5 . 4 2 8 3 7 6 .\n",
            " 4    . 7 4 . 9 5 2 3 1 6\n",
            " 5    0 9 5 6 . 2 1 8 3 7\n",
            " 6    4 8 6 1 0 7 5 9 . 3\n",
            " 7    6 1 2 0 8 . 9 5 7 4\n",
            " 8    9 . . 3 . 1 . 2 0 8\n",
            " 9    8 3 0 . 4 9 6 . 2 1\n",
            "10    1 0 3 7 5 6 8 4 . 2\n",
            "11    5 4 1 2 7 3 . 0 9 .\n",
            "\n"
          ]
        }
      ],
      "source": [
        "print(\"\\n  Solution:\\n\\n \\\\\\n  \\\\   Groups\\n t \\\\\\n    \\\\\")\n",
        "print(\"     \", end=\"\")\n",
        "for j in J:\n",
        "    print(\"{:2d}\".format(j), end=\"\")\n",
        "print()\n",
        "\n",
        "for t in T:\n",
        "    print(\"{:2d}   \".format(t), end=\"\")\n",
        "    for j in J:\n",
        "        lesson = False\n",
        "        for i in I:\n",
        "            if pulp.value(x[i][j][t]) == 1:\n",
        "                print(\"{:2d}\".format(i), end=\"\")\n",
        "                lesson = True\n",
        "                break\n",
        "        if not lesson:\n",
        "            print(\" .\", end=\"\")    \n",
        "    print()\n",
        "print()\n"
      ]
    }
  ],
  "metadata": {
    "kernelspec": {
      "display_name": "Python 3",
      "language": "python",
      "name": "python3"
    },
    "language_info": {
      "codemirror_mode": {
        "name": "ipython",
        "version": 3
      },
      "file_extension": ".py",
      "mimetype": "text/x-python",
      "name": "python",
      "nbconvert_exporter": "python",
      "pygments_lexer": "ipython3",
      "version": "3.8.3"
    },
    "colab": {
      "provenance": [],
      "include_colab_link": true
    }
  },
  "nbformat": 4,
  "nbformat_minor": 0
}