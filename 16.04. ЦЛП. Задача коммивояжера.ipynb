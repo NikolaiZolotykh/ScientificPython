{
  "cells": [
    {
      "cell_type": "markdown",
      "metadata": {
        "id": "view-in-github",
        "colab_type": "text"
      },
      "source": [
        "<a href=\"https://colab.research.google.com/github/NikolaiZolotykh/ScientificPython/blob/master/16.04.%20%D0%A6%D0%9B%D0%9F.%20%D0%97%D0%B0%D0%B4%D0%B0%D1%87%D0%B0%20%D0%BA%D0%BE%D0%BC%D0%BC%D0%B8%D0%B2%D0%BE%D1%8F%D0%B6%D0%B5%D1%80%D0%B0.ipynb\" target=\"_parent\"><img src=\"https://colab.research.google.com/assets/colab-badge.svg\" alt=\"Open In Colab\"/></a>"
      ]
    },
    {
      "cell_type": "markdown",
      "metadata": {
        "id": "4O5Qmcr1fzvz"
      },
      "source": [
        "# Задача коммивояжера\n"
      ]
    },
    {
      "cell_type": "code",
      "execution_count": null,
      "metadata": {
        "id": "yV2hpaaEfzv2"
      },
      "outputs": [],
      "source": [
        "import pulp\n",
        "import numpy as np\n",
        "import matplotlib.pyplot as plt\n",
        "%matplotlib inline"
      ]
    },
    {
      "cell_type": "code",
      "execution_count": null,
      "metadata": {
        "id": "ABY9XS74fzv4"
      },
      "outputs": [],
      "source": [
        "n = 50 # n=200 около 10 мин\n",
        "np.random.seed(42)\n",
        "x = 1.5*np.random.rand(n)\n",
        "y = np.random.rand(n)"
      ]
    },
    {
      "cell_type": "code",
      "execution_count": null,
      "metadata": {
        "id": "o7mL2k80fzv4",
        "outputId": "62ccdb03-27e5-4c74-ad40-6869bb9751bd"
      },
      "outputs": [
        {
          "data": {
            "image/png": "[encoded data removed]",
            "text/plain": [
              "<Figure size 432x288 with 1 Axes>"
            ]
          },
          "metadata": {
            "needs_background": "light"
          },
          "output_type": "display_data"
        }
      ],
      "source": [
        "plt.plot(x, y, '*', markerfacecolor = 'red', markeredgecolor = 'red')\n",
        "plt.axis('equal')\n",
        "pass"
      ]
    },
    {
      "cell_type": "code",
      "execution_count": null,
      "metadata": {
        "id": "ee-8nFAAfzv6"
      },
      "outputs": [],
      "source": [
        "xi, xj = np.meshgrid(x, x)\n",
        "yi, yj = np.meshgrid(y, y)\n",
        "dist = np.hypot(xi - xj, yi - yj)"
      ]
    },
    {
      "cell_type": "markdown",
      "metadata": {
        "id": "eHxi-1wsfzv6"
      },
      "source": [
        "## Формулируем ЗЦЛП\n"
      ]
    },
    {
      "cell_type": "code",
      "execution_count": null,
      "metadata": {
        "id": "lfTEFdPyfzv6"
      },
      "outputs": [],
      "source": [
        "prob = pulp.LpProblem(\"Traveling Salesman Problem\", pulp.LpMinimize)"
      ]
    },
    {
      "cell_type": "code",
      "execution_count": null,
      "metadata": {
        "id": "q5VAKja8fzv6"
      },
      "outputs": [],
      "source": [
        "roads = pulp.LpVariable.dicts(\"Road\", (range(n), range(n)), 0, 1, pulp.LpInteger)"
      ]
    },
    {
      "cell_type": "code",
      "execution_count": null,
      "metadata": {
        "id": "aneZ5RGqfzv7",
        "outputId": "febaf9e4-ca1a-40bd-d138-c3bffe9db8f1"
      },
      "outputs": [
        {
          "data": {
            "text/plain": [
              "Road_3_1"
            ]
          },
          "execution_count": 7,
          "metadata": {},
          "output_type": "execute_result"
        }
      ],
      "source": [
        "roads[3][1]"
      ]
    },
    {
      "cell_type": "markdown",
      "metadata": {
        "id": "N3ACNJI8fzv7"
      },
      "source": [
        "В каждый город въезжаем ровно $1$ раз; из каждого города выезжаем ровно $1$ раз:"
      ]
    },
    {
      "cell_type": "code",
      "execution_count": null,
      "metadata": {
        "id": "q-5aPaHofzv7"
      },
      "outputs": [],
      "source": [
        "for i in range(n):\n",
        "    prob += pulp.lpSum([roads[i][j] for j in range(n)]) == 1\n",
        "for j in range(n):\n",
        "    prob += pulp.lpSum([roads[i][j] for i in range(n)]) == 1"
      ]
    },
    {
      "cell_type": "markdown",
      "metadata": {
        "id": "XafshSfufzv8"
      },
      "source": [
        "Из города в тот же город ехать нельзя:"
      ]
    },
    {
      "cell_type": "code",
      "execution_count": null,
      "metadata": {
        "id": "MBRjyacrfzv8"
      },
      "outputs": [],
      "source": [
        "for i in range(n):\n",
        "    prob += roads[i][i] == 0"
      ]
    },
    {
      "cell_type": "code",
      "execution_count": null,
      "metadata": {
        "id": "OhTymp8Mfzv8"
      },
      "outputs": [],
      "source": [
        "prob += pulp.lpSum([dist[i][j]*roads[i][j] for i in range(n) for j in range(n)]), \"Objective Function\" "
      ]
    },
    {
      "cell_type": "markdown",
      "metadata": {
        "id": "zT_lt_g9fzv8"
      },
      "source": [
        "## Решаем задачу"
      ]
    },
    {
      "cell_type": "code",
      "execution_count": null,
      "metadata": {
        "id": "ttXwT8G1fzv9",
        "outputId": "9897448d-8605-4f57-e09f-943c55feabb3"
      },
      "outputs": [
        {
          "name": "stdout",
          "output_type": "stream",
          "text": [
            "Status: Optimal\n"
          ]
        }
      ],
      "source": [
        "prob.solve()\n",
        "print(\"Status:\", pulp.LpStatus[prob.status])"
      ]
    },
    {
      "cell_type": "code",
      "execution_count": null,
      "metadata": {
        "id": "26qJ-kiofzv9"
      },
      "outputs": [],
      "source": [
        "def findPath(roads):\n",
        "    path = [0]*n\n",
        "    for i in range(n):\n",
        "        for j in range(n):\n",
        "            if pulp.value(roads[i][j]) == 1:\n",
        "                path[i] = j\n",
        "    return path            "
      ]
    },
    {
      "cell_type": "code",
      "execution_count": null,
      "metadata": {
        "id": "IXuhou53fzv9",
        "outputId": "53dae67e-d5be-42a7-e3ea-a20706c1b079"
      },
      "outputs": [
        {
          "name": "stdout",
          "output_type": "stream",
          "text": [
            "[19, 43, 38, 30, 31, 26, 29, 33, 48, 35, 32, 34, 25, 14, 13, 46, 22, 20, 27, 5, 17, 49, 16, 0, 41, 12, 44, 18, 45, 6, 3, 4, 10, 7, 11, 9, 23, 42, 2, 47, 21, 24, 37, 1, 36, 28, 15, 39, 8, 40]\n"
          ]
        }
      ],
      "source": [
        "path = findPath(roads)\n",
        "print(path)"
      ]
    },
    {
      "cell_type": "code",
      "execution_count": null,
      "metadata": {
        "id": "JotYaauffzv9",
        "outputId": "5ab55f70-11c7-41f2-c00f-4ec86620aa8f"
      },
      "outputs": [
        {
          "data": {
            "image/png": "[encoded data removed]",
            "text/plain": [
              "<Figure size 432x288 with 1 Axes>"
            ]
          },
          "metadata": {
            "needs_background": "light"
          },
          "output_type": "display_data"
        }
      ],
      "source": [
        "plt.plot(x, y, '*', markerfacecolor = 'red', markeredgecolor = 'red')\n",
        "plt.axis('equal')\n",
        "for i in range(n):\n",
        "    plt.plot((x[i], x[path[i]]), (y[i], y[path[i]]), '--b')"
      ]
    },
    {
      "cell_type": "markdown",
      "metadata": {
        "id": "WWxWFXVDfzv-"
      },
      "source": [
        "## Динамическое исключение контуров"
      ]
    },
    {
      "cell_type": "code",
      "execution_count": null,
      "metadata": {
        "id": "24wh5zZvfzv-"
      },
      "outputs": [],
      "source": [
        "def findTours(path):\n",
        "    ipath = [True]*len(path)\n",
        "    tours = []\n",
        "    while True in ipath:\n",
        "        i0 = ipath.index(True)\n",
        "        ipath[i0] = False\n",
        "        tour = [i0]\n",
        "        i = path[i0]\n",
        "        while i != i0:\n",
        "            tour.append(i)\n",
        "            ipath[i] = False\n",
        "            i = path[i]\n",
        "        tours.append(tour)\n",
        "    return tours   "
      ]
    },
    {
      "cell_type": "code",
      "execution_count": null,
      "metadata": {
        "id": "xKjx76IPfzv-",
        "outputId": "582eeee0-25ba-4068-d0f0-9614a8bcab35"
      },
      "outputs": [
        {
          "data": {
            "text/plain": [
              "[[0, 19, 5, 26, 44, 36, 23],\n",
              " [1, 43],\n",
              " [2, 38],\n",
              " [3, 30],\n",
              " [4, 31],\n",
              " [6, 29],\n",
              " [7, 33],\n",
              " [8, 48],\n",
              " [9, 35],\n",
              " [10, 32],\n",
              " [11, 34],\n",
              " [12, 25],\n",
              " [13, 14],\n",
              " [15, 46],\n",
              " [16, 22],\n",
              " [17, 20],\n",
              " [18, 27],\n",
              " [21, 49, 40],\n",
              " [24, 41],\n",
              " [28, 45],\n",
              " [37, 42],\n",
              " [39, 47]]"
            ]
          },
          "execution_count": 16,
          "metadata": {},
          "output_type": "execute_result"
        }
      ],
      "source": [
        "findTours(path)"
      ]
    },
    {
      "cell_type": "code",
      "execution_count": null,
      "metadata": {
        "id": "zcwFonxQfzv_",
        "outputId": "e47a73b5-52ff-40fe-d76f-cf88012fc925"
      },
      "outputs": [
        {
          "name": "stdout",
          "output_type": "stream",
          "text": [
            "Iteration No 1  Number of tours =  22\n",
            "Iteration No 2  Number of tours =  7\n",
            "Iteration No 3  Number of tours =  5\n",
            "Iteration No 4  Number of tours =  7\n",
            "Iteration No 5  Number of tours =  4\n",
            "Iteration No 6  Number of tours =  3\n",
            "Iteration No 7  Number of tours =  2\n",
            "Iteration No 8  Number of tours =  2\n",
            "Iteration No 9  Number of tours =  1\n"
          ]
        }
      ],
      "source": [
        "itCount = 0\n",
        "while True:\n",
        "    itCount += 1\n",
        "    print('Iteration No', itCount, end = '')\n",
        "    result = prob.solve()\n",
        "    if result != 1:\n",
        "        print('\\nSomething Wrong!')\n",
        "        break\n",
        "    path = findPath(roads) \n",
        "    tours = findTours(path)\n",
        "    print('  Number of tours = ', len(tours))\n",
        "    if len(tours) == 1:\n",
        "        break\n",
        "    for tour in tours:\n",
        "        prob += pulp.lpSum([roads[i][j] for i in tour for j in tour]) <= len(tour) - 1    "
      ]
    },
    {
      "cell_type": "code",
      "execution_count": null,
      "metadata": {
        "id": "PvFPZyCpfzv_",
        "outputId": "74aa71eb-8bc4-4d77-e3a7-beb5128222f1"
      },
      "outputs": [
        {
          "data": {
            "image/png": "[encoded data removed]",
            "text/plain": [
              "<Figure size 432x288 with 1 Axes>"
            ]
          },
          "metadata": {
            "needs_background": "light"
          },
          "output_type": "display_data"
        }
      ],
      "source": [
        "plt.plot(x, y, '*', markerfacecolor = 'red', markeredgecolor = 'red')\n",
        "plt.axis('equal')\n",
        "for i in range(n):\n",
        "    plt.plot((x[i], x[path[i]]), (y[i], y[path[i]]), '--b')"
      ]
    },
    {
      "cell_type": "code",
      "execution_count": null,
      "metadata": {
        "id": "XOQ9GXgMfzv_",
        "outputId": "d57a304f-ff1b-46e2-c207-5cd327179791"
      },
      "outputs": [
        {
          "name": "stdout",
          "output_type": "stream",
          "text": [
            "Total Distanse =  7.287766432262201\n"
          ]
        }
      ],
      "source": [
        "print(\"Total Distanse = \", pulp.value(prob.objective))"
      ]
    },
    {
      "cell_type": "markdown",
      "metadata": {
        "id": "eC0FWS6Mfzv_"
      },
      "source": [
        "## Условия Таккера\n",
        "\n",
        "Вместо динамического исключения контуров\n",
        "\n",
        "Работает медленно (при `n=40` около 15 минут)"
      ]
    },
    {
      "cell_type": "code",
      "execution_count": null,
      "metadata": {
        "collapsed": true,
        "id": "hw0IL0CqfzwA"
      },
      "outputs": [],
      "source": [
        "beats = pulp.LpVariable.dicts(\"Beat\", range(1, n))"
      ]
    },
    {
      "cell_type": "code",
      "execution_count": null,
      "metadata": {
        "id": "KCO3MwzgfzwA"
      },
      "outputs": [],
      "source": [
        "for i in range(1, n):\n",
        "    for j in range(1, n):\n",
        "        if i != j:\n",
        "            prob += beats[i] - beats[j] + n*roads[i][j] <= n - 1"
      ]
    },
    {
      "cell_type": "code",
      "execution_count": null,
      "metadata": {
        "collapsed": true,
        "id": "_J_zMEhffzwA"
      },
      "outputs": [],
      "source": [
        "prob.writeLP(\"TSP.lp\")"
      ]
    },
    {
      "cell_type": "code",
      "execution_count": null,
      "metadata": {
        "id": "0pYPyfOsfzwA",
        "outputId": "fb06bd3d-2097-4cde-fbe5-07f0d44cadf1"
      },
      "outputs": [
        {
          "data": {
            "text/plain": [
              "1"
            ]
          },
          "execution_count": 20,
          "metadata": {},
          "output_type": "execute_result"
        }
      ],
      "source": [
        "prob.solve()"
      ]
    },
    {
      "cell_type": "code",
      "execution_count": null,
      "metadata": {
        "id": "UNo3YQJufzwB",
        "outputId": "309bf6ae-895f-4c64-a292-cb301e85c41a"
      },
      "outputs": [
        {
          "name": "stdout",
          "output_type": "stream",
          "text": [
            "Status: Optimal\n"
          ]
        }
      ],
      "source": [
        "print(\"Status:\", pulp.LpStatus[prob.status])"
      ]
    },
    {
      "cell_type": "code",
      "execution_count": null,
      "metadata": {
        "id": "xUsZpp9GfzwB",
        "outputId": "82333038-016b-41fe-dbd6-211da5e9b12c"
      },
      "outputs": [
        {
          "data": {
            "image/png": "[encoded data removed]",
            "text/plain": [
              "<matplotlib.figure.Figure at 0xb8b0e10>"
            ]
          },
          "metadata": {},
          "output_type": "display_data"
        }
      ],
      "source": [
        "plt.plot(x, y, '*', markerfacecolor = 'red', markeredgecolor = 'red')\n",
        "plt.axis('equal')\n",
        "for i in range(n):\n",
        "    for j in range(n):\n",
        "        if pulp.value(roads[i][j]) == 1:\n",
        "            plt.plot((x[i], x[j]), (y[i], y[j]), '--b')"
      ]
    },
    {
      "cell_type": "code",
      "execution_count": null,
      "metadata": {
        "id": "St7gxCfTfzwB",
        "outputId": "e9bc659d-4dbf-4d0d-97ae-393832e392a2"
      },
      "outputs": [
        {
          "name": "stdout",
          "output_type": "stream",
          "text": [
            "Total Distanse =  6.36682378831\n"
          ]
        }
      ],
      "source": [
        "print(\"Total Distanse = \", pulp.value(prob.objective))"
      ]
    }
  ],
  "metadata": {
    "kernelspec": {
      "display_name": "Python 3",
      "language": "python",
      "name": "python3"
    },
    "language_info": {
      "codemirror_mode": {
        "name": "ipython",
        "version": 3
      },
      "file_extension": ".py",
      "mimetype": "text/x-python",
      "name": "python",
      "nbconvert_exporter": "python",
      "pygments_lexer": "ipython3",
      "version": "3.7.3"
    },
    "colab": {
      "provenance": [],
      "include_colab_link": true
    }
  },
  "nbformat": 4,
  "nbformat_minor": 0
}