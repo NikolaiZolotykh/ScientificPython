{
  "cells": [
    {
      "cell_type": "markdown",
      "metadata": {
        "id": "view-in-github",
        "colab_type": "text"
      },
      "source": [
        "<a href=\"https://colab.research.google.com/github/NikolaiZolotykh/ScientificPython/blob/master/15%20%D0%9B%D0%B8%D0%BD%D0%B5%D0%B9%D0%BD%D0%BE%D0%B5%20%D0%BF%D1%80%D0%BE%D0%B3%D1%80%D0%B0%D0%BC%D0%BC%D0%B8%D1%80%D0%BE%D0%B2%D0%B0%D0%BD%D0%B8%D0%B5.ipynb\" target=\"_parent\"><img src=\"https://colab.research.google.com/assets/colab-badge.svg\" alt=\"Open In Colab\"/></a>"
      ]
    },
    {
      "cell_type": "markdown",
      "source": [
        "# Задача математического программирования\n",
        "\n",
        "Задачей **условной оптимизации** (**математического программирования**) называется задача вида:\n",
        "\n",
        "найти\n",
        "$$\n",
        "\\min f(x)\n",
        "$$\n",
        "при условиях\n",
        "$$\n",
        "\\left\\{\n",
        "\\begin{array}{ll}\n",
        "g_i (x) \\ge 0 & (i=1,2,\\dots,m),\\\\\n",
        "h_k (x) = 0   & (k=1,2,\\dots,p),\\\\\n",
        "x \\in S \\subseteq {\\bf R}^n\n",
        "\\end{array}\n",
        "\\right.\n",
        "$$\n",
        "\n",
        "Для решения такого сорта задач можно использовать `scipy.optimize.minimize`.\n",
        "\n",
        "Важный класс таких задач образуют задачи **линейной оптимизации** (**линейного программирования**) - в них целевая функция и левые части ограничений являются линейными:\n",
        "\n",
        "найти\n",
        "$$\n",
        "\\min c^{\\top}x\n",
        "$$\n",
        "при условиях\n",
        "$$\n",
        "\\left\\{\n",
        "\\begin{array}{l}\n",
        "A'x \\ge b' ,\\\\\n",
        "A''x = b'' ,\\\\\n",
        "l \\le x \\le u,\n",
        "\\end{array}\n",
        "\\right.\n",
        "$$\n",
        "где $x\\in {\\bf R}^n$, $A'\\in {\\bf R}^{m\\times n}$, $A''\\in {\\bf R}^{p\\times n}$, $b'\\in {\\bf R}^m$, $b''\\in {\\bf R}^p$, $l\\in {\\bf R}^n$, $u\\in {\\bf R}^n$ и  некоторые компоненты векторов $l$, $u$ могут быть равны $-\\infty$, $+\\infty$ соответственно.\n",
        "\n",
        "Многие задачи комбинаторной оптимизации могут быть сформулированы в виде задач (**смешанного**) **целочисленного** **линейного программирования**:\n",
        "\n",
        "\n",
        "найти\n",
        "$$\n",
        "\\min c^{\\top}x\n",
        "$$\n",
        "при условиях\n",
        "$$\n",
        "\\left\\{\n",
        "\\begin{array}{ll}\n",
        "A'x \\ge b' ,\\\\\n",
        "A''x = b'' ,\\\\\n",
        "l \\le x \\le u, \\\\\n",
        "x_j \\in {\\bf Z}^n & (j \\in J).\n",
        "\\end{array}\n",
        "\\right.\n",
        "$$\n",
        "\n"
      ],
      "metadata": {
        "id": "BvngukLM07qD"
      }
    },
    {
      "cell_type": "markdown",
      "source": [
        "Один из вариантов вызова функции `scipy.optimize.linprog`:\n",
        "```\n",
        "scipy.optimize.linprog(c, A_ub, b_ub, A_eq, b_eq, bounds=None)\n",
        "```\n",
        "\n",
        "где `A_ub`, `b_ub`, `A_eq`, `b_eq` содержат соответственно $A'$, $b'$, $A''$, $b''$, а `bounds` содержит нижние и верхние границы для $x_j$. По умолчанию нижняя граница для всех $x_j$ равна $0$, а верхняя равна $+\\infty$.  \n"
      ],
      "metadata": {
        "id": "M8GFMEVk77Vo"
      }
    },
    {
      "cell_type": "markdown",
      "source": [
        "**Пример 1.**\n",
        "\n",
        "$$\n",
        "\\max (x_1+2x_2+3x_3)\n",
        "$$\n",
        "\n",
        "$$\n",
        "\\left\\{\n",
        "\\begin{array}{ll}\n",
        "x_1 + 3x_2 + 4x_3 \\ge 1, \\\\\n",
        "2x_1 + 3x_2 + x_3 \\ge 2, \\\\\n",
        "x_j \\ge 0 \\quad (j=1,2,3)\n",
        "\\end{array}\n",
        "\\right.\n",
        "$$"
      ],
      "metadata": {
        "id": "J6S_1OC792wg"
      }
    },
    {
      "cell_type": "code",
      "execution_count": 1,
      "metadata": {
        "id": "v3g0Dx9CpaFe"
      },
      "outputs": [],
      "source": [
        "from scipy.optimize import linprog\n",
        "import numpy as np"
      ]
    },
    {
      "cell_type": "code",
      "execution_count": 2,
      "metadata": {
        "id": "WYIF2glXpaFh",
        "outputId": "f87a311e-45fd-43c2-f895-b440ec9e077a",
        "colab": {
          "base_uri": "https://localhost:8080/"
        }
      },
      "outputs": [
        {
          "output_type": "execute_result",
          "data": {
            "text/plain": [
              "        message: Optimization terminated successfully. (HiGHS Status 7: Optimal)\n",
              "        success: True\n",
              "         status: 0\n",
              "            fun: -1.0\n",
              "              x: [ 1.000e+00  0.000e+00  0.000e+00]\n",
              "            nit: 1\n",
              "          lower:  residual: [ 1.000e+00  0.000e+00  0.000e+00]\n",
              "                 marginals: [ 0.000e+00  1.000e+00  1.000e+00]\n",
              "          upper:  residual: [       inf        inf        inf]\n",
              "                 marginals: [ 0.000e+00  0.000e+00  0.000e+00]\n",
              "          eqlin:  residual: []\n",
              "                 marginals: []\n",
              "        ineqlin:  residual: [ 0.000e+00  0.000e+00]\n",
              "                 marginals: [-1.000e+00 -0.000e+00]\n",
              " mip_node_count: 0\n",
              " mip_dual_bound: 0.0\n",
              "        mip_gap: 0.0"
            ]
          },
          "metadata": {},
          "execution_count": 2
        }
      ],
      "source": [
        "c = [-1, -2, -3]\n",
        "A = [[1, 3, 4], [2, 3, 1]]\n",
        "b = [1, 2]\n",
        "linprog(c, A_ub=A, b_ub=b)"
      ]
    },
    {
      "cell_type": "markdown",
      "source": [
        "**Пример 2.**\n",
        "\n",
        "Фирма производит столы и стулья.\n",
        "Объемы ресурсов, требуемых для производства одного стула и одного стола,\n",
        "а также имеющиеся запасы ресурсов и цены на товар приведены в следующей таблице:\n",
        "\n",
        "| Ресурсы                        | Стул | Стол | Запасы |\n",
        "|--------------------------------|:----:|:----:|:------:|\n",
        "| Древесина (кг)                 |5     |  15  |  270   |\n",
        "| Кожа (м${}^2)$                 |0.5   |      |   15   |\n",
        "| Клей (г)                       |120   |  200 |  6000  |\n",
        "| Трудовые ресурсы (чел$\\cdot$ч) |10    |  15  |  360   |\n",
        "| *Цена* (руб.)                  | 1000 | 2000 |        |  \n",
        "\n",
        "Необходимо определить оптимальный план производства стульев и столов,\n",
        "максимизирующий прибыль.\n",
        "\n",
        "Составляем математическую модель данной задачи.\n",
        "Обозначим $x_1$ количество производимых стульев,\n",
        "а $x_2$ --- количество столов.\n",
        "\n",
        "Необходимо максимизировать прибыль:\n",
        "$$\n",
        "\\max(1000 x_1 + 2000 x_2)\n",
        "$$\n",
        "при ограничениях\n",
        "$$\n",
        "\\left\\{\n",
        "\\begin{array}{rcrcrr}\n",
        "    5x_1 & + &  15x_2 & \\le &  270, \\\\\n",
        "  0.5x_1 &   &        & \\le &   15, \\\\\n",
        "  120x_1 & + & 200x_2 & \\le & 6000, \\\\\n",
        "   10x_1 & + &  15x_2 & \\le &  360, \\\\\n",
        "     x_1 &   &        & \\ge & 0, \\\\ \n",
        "         &   &    x_2 & \\ge & 0. \n",
        "\\end{array}\n",
        "\\right.\n",
        "$$\n",
        "\n",
        "Строго говоря, данная задача является задачей *целочисленного* линейного программирования, так как $x_1$, $x_2$ должны быть целыми.\n",
        "Для начала забудем про эти требования.\n",
        "\n",
        "Умножая (или деля) каждое неравенство на подходящий множитель и заменяя целевую функцию\n",
        "$1000 x_1 + 2000 x_2$ на $x_1 + 2x_2$ (теперь прибыль будет измеряться не в рублях, а в тыс. рублей), \n",
        "получаем следующую ЗЛП:\n",
        "$$\n",
        "\\max(x_1 + 2x_2)\n",
        "$$\n",
        "при ограничениях\n",
        "$$\n",
        "\\left\\{\n",
        "\\begin{array}{rcrcrr}\n",
        "     x_1 & + &   3x_2 & \\le &   54, \\\\\n",
        "     x_1 &   &        & \\le &   30, \\\\\n",
        "    3x_1 & + &   5x_2 & \\le &  150, \\\\\n",
        "    2x_1 & + &   3x_2 & \\le &   72, \\\\\n",
        "     x_1 &   &        & \\ge & 0, \\\\ \n",
        "         &   &    x_2 & \\ge & 0. \n",
        "\\end{array}\n",
        "\\right.\n",
        "$$\n",
        "\n",
        "\n",
        "\n"
      ],
      "metadata": {
        "id": "ZxGS2YqnLBh2"
      }
    },
    {
      "cell_type": "markdown",
      "source": [
        "![image.png](data:image/png;base64,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)"
      ],
      "metadata": {
        "id": "tNLl__01Otne"
      }
    },
    {
      "cell_type": "code",
      "execution_count": 6,
      "metadata": {
        "id": "dXZ3SIykpaFk"
      },
      "outputs": [],
      "source": [
        "c = [-1000, -2000]\n",
        "A = [[5, 15], [.5, 0], [120, 200], [10, 15]]\n",
        "b = [270, 15, 6000, 360]"
      ]
    },
    {
      "cell_type": "code",
      "execution_count": 7,
      "metadata": {
        "id": "iywtc-x_paFk"
      },
      "outputs": [],
      "source": [
        "# Можно и не делать\n",
        "c = np.array(c)\n",
        "A = np.array(A)\n",
        "b = np.array(b)"
      ]
    },
    {
      "cell_type": "code",
      "execution_count": 8,
      "metadata": {
        "id": "hjjBrWw6paFl",
        "outputId": "f4585409-986b-440d-8648-06c366d61125",
        "colab": {
          "base_uri": "https://localhost:8080/"
        }
      },
      "outputs": [
        {
          "output_type": "execute_result",
          "data": {
            "text/plain": [
              "        message: Optimization terminated successfully. (HiGHS Status 7: Optimal)\n",
              "        success: True\n",
              "         status: 0\n",
              "            fun: -42000.0\n",
              "              x: [ 1.800e+01  1.200e+01]\n",
              "            nit: 2\n",
              "          lower:  residual: [ 1.800e+01  1.200e+01]\n",
              "                 marginals: [ 0.000e+00  0.000e+00]\n",
              "          upper:  residual: [       inf        inf]\n",
              "                 marginals: [ 0.000e+00  0.000e+00]\n",
              "          eqlin:  residual: []\n",
              "                 marginals: []\n",
              "        ineqlin:  residual: [ 0.000e+00  6.000e+00  1.440e+03  0.000e+00]\n",
              "                 marginals: [-6.667e+01 -0.000e+00 -0.000e+00 -6.667e+01]\n",
              " mip_node_count: 0\n",
              " mip_dual_bound: 0.0\n",
              "        mip_gap: 0.0"
            ]
          },
          "metadata": {},
          "execution_count": 8
        }
      ],
      "source": [
        "linprog(c, A_ub=A, b_ub=b)"
      ]
    },
    {
      "cell_type": "code",
      "source": [
        "c = [-1, -2]\n",
        "A = [[1, 3], [1, 0], [3, 5], [2, 3]]\n",
        "b = [54, 30, 150, 72]"
      ],
      "metadata": {
        "id": "fB4uHZJFGKNG"
      },
      "execution_count": 58,
      "outputs": []
    },
    {
      "cell_type": "code",
      "source": [
        "linprog(c, A_ub=A, b_ub=b)"
      ],
      "metadata": {
        "colab": {
          "base_uri": "https://localhost:8080/"
        },
        "id": "hHPLgjVgPbDO",
        "outputId": "9855739c-f2ff-43dd-fa61-7afe05fa1111"
      },
      "execution_count": 59,
      "outputs": [
        {
          "output_type": "execute_result",
          "data": {
            "text/plain": [
              "        message: Optimization terminated successfully. (HiGHS Status 7: Optimal)\n",
              "        success: True\n",
              "         status: 0\n",
              "            fun: -42.0\n",
              "              x: [ 1.800e+01  1.200e+01]\n",
              "            nit: 3\n",
              "          lower:  residual: [ 1.800e+01  1.200e+01]\n",
              "                 marginals: [ 0.000e+00  0.000e+00]\n",
              "          upper:  residual: [       inf        inf]\n",
              "                 marginals: [ 0.000e+00  0.000e+00]\n",
              "          eqlin:  residual: []\n",
              "                 marginals: []\n",
              "        ineqlin:  residual: [ 0.000e+00  1.200e+01  3.600e+01  0.000e+00]\n",
              "                 marginals: [-3.333e-01 -0.000e+00 -0.000e+00 -3.333e-01]\n",
              " mip_node_count: 0\n",
              " mip_dual_bound: 0.0\n",
              "        mip_gap: 0.0"
            ]
          },
          "metadata": {},
          "execution_count": 59
        }
      ]
    },
    {
      "cell_type": "markdown",
      "source": [
        "Поменяем немного условия:"
      ],
      "metadata": {
        "id": "xvBlAG_Rgyyz"
      }
    },
    {
      "cell_type": "code",
      "source": [
        "b = [53, 25, 150, 71]\n",
        "\n",
        "linprog(c, A_ub=A, b_ub=b)"
      ],
      "metadata": {
        "colab": {
          "base_uri": "https://localhost:8080/"
        },
        "id": "rdmN_t_Bg8-p",
        "outputId": "5f8f573a-505c-44bf-e2d2-edc8c2ff8b7e"
      },
      "execution_count": 60,
      "outputs": [
        {
          "output_type": "execute_result",
          "data": {
            "text/plain": [
              "        message: Optimization terminated successfully. (HiGHS Status 7: Optimal)\n",
              "        success: True\n",
              "         status: 0\n",
              "            fun: -41.33333333333333\n",
              "              x: [ 1.800e+01  1.167e+01]\n",
              "            nit: 3\n",
              "          lower:  residual: [ 1.800e+01  1.167e+01]\n",
              "                 marginals: [ 0.000e+00  0.000e+00]\n",
              "          upper:  residual: [       inf        inf]\n",
              "                 marginals: [ 0.000e+00  0.000e+00]\n",
              "          eqlin:  residual: []\n",
              "                 marginals: []\n",
              "        ineqlin:  residual: [ 0.000e+00  7.000e+00  3.767e+01  0.000e+00]\n",
              "                 marginals: [-3.333e-01 -0.000e+00 -0.000e+00 -3.333e-01]\n",
              " mip_node_count: 0\n",
              " mip_dual_bound: 0.0\n",
              "        mip_gap: 0.0"
            ]
          },
          "metadata": {},
          "execution_count": 60
        }
      ]
    },
    {
      "cell_type": "markdown",
      "source": [
        "Решение получилось дробным, хотя по смыслу оно должно быть целочисленным"
      ],
      "metadata": {
        "id": "q2jOZAfxhAfR"
      }
    },
    {
      "cell_type": "code",
      "source": [
        "linprog(c, A_ub=A, b_ub=b, integrality=1, method='highs')"
      ],
      "metadata": {
        "colab": {
          "base_uri": "https://localhost:8080/"
        },
        "id": "aNlXiPZThJIB",
        "outputId": "9ceb3956-84fd-4a53-a8dc-5338c6b2e392"
      },
      "execution_count": 61,
      "outputs": [
        {
          "output_type": "execute_result",
          "data": {
            "text/plain": [
              "        message: Optimization terminated successfully. (HiGHS Status 7: Optimal)\n",
              "        success: True\n",
              "         status: 0\n",
              "            fun: -41.0\n",
              "              x: [ 1.900e+01  1.100e+01]\n",
              "            nit: -1\n",
              "          lower:  residual: [ 1.900e+01  1.100e+01]\n",
              "                 marginals: [ 0.000e+00  0.000e+00]\n",
              "          upper:  residual: [       inf        inf]\n",
              "                 marginals: [ 0.000e+00  0.000e+00]\n",
              "          eqlin:  residual: []\n",
              "                 marginals: []\n",
              "        ineqlin:  residual: [ 1.000e+00  6.000e+00  3.800e+01  0.000e+00]\n",
              "                 marginals: [ 0.000e+00  0.000e+00  0.000e+00  0.000e+00]\n",
              " mip_node_count: 1\n",
              " mip_dual_bound: -41.0\n",
              "        mip_gap: 0.0"
            ]
          },
          "metadata": {},
          "execution_count": 61
        }
      ]
    },
    {
      "cell_type": "markdown",
      "source": [
        "# Используем Modeling Language\n",
        "\n",
        "В практических задачах линейного программирования количество неизвестных и ограничений может достигать сотен тысяч и более. Матрицы ограничений при этом разреженные. В этом случае для описания задачи удобно пользоваться одним из **языков моделирования**. "
      ],
      "metadata": {
        "id": "122HCJw9QXn0"
      }
    },
    {
      "cell_type": "code",
      "source": [
        "!pip install pulp\n",
        "import pulp"
      ],
      "metadata": {
        "colab": {
          "base_uri": "https://localhost:8080/"
        },
        "id": "orAH-qNAPbVc",
        "outputId": "b926ef48-2986-4261-e366-ae206c23aa7a"
      },
      "execution_count": 12,
      "outputs": [
        {
          "output_type": "stream",
          "name": "stdout",
          "text": [
            "Looking in indexes: https://pypi.org/simple, https://us-python.pkg.dev/colab-wheels/public/simple/\n",
            "Collecting pulp\n",
            "  Downloading PuLP-2.7.0-py3-none-any.whl (14.3 MB)\n",
            "\u001b[2K     \u001b[90m━━━━━━━━━━━━━━━━━━━━━━━━━━━━━━━━━━━━━━━━\u001b[0m \u001b[32m14.3/14.3 MB\u001b[0m \u001b[31m81.5 MB/s\u001b[0m eta \u001b[36m0:00:00\u001b[0m\n",
            "\u001b[?25hInstalling collected packages: pulp\n",
            "Successfully installed pulp-2.7.0\n"
          ]
        }
      ]
    },
    {
      "cell_type": "code",
      "source": [
        "prob = pulp.LpProblem(\"Chairs_and_Tables\", pulp.LpMaximize)"
      ],
      "metadata": {
        "id": "bdpkUPo1QHYs"
      },
      "execution_count": 28,
      "outputs": []
    },
    {
      "cell_type": "code",
      "source": [
        "Chairs = pulp.LpVariable(\"Chairs\", 0, None, pulp.LpInteger)\n",
        "Tables = pulp.LpVariable(\"Tables\", 0, None, pulp.LpInteger)"
      ],
      "metadata": {
        "id": "1OIacQ3nQWlk"
      },
      "execution_count": 29,
      "outputs": []
    },
    {
      "cell_type": "markdown",
      "source": [
        "Целевая функция:"
      ],
      "metadata": {
        "id": "h2N1FjVhR1tu"
      }
    },
    {
      "cell_type": "code",
      "source": [
        "prob += 1000*Chairs + 2000*Tables "
      ],
      "metadata": {
        "id": "edbcSXT-QnxT"
      },
      "execution_count": 30,
      "outputs": []
    },
    {
      "cell_type": "markdown",
      "source": [
        "Ограничения:"
      ],
      "metadata": {
        "id": "xqhnQboqR8wt"
      }
    },
    {
      "cell_type": "code",
      "source": [
        "prob +=   5*Chairs +  15*Tables <= 270\n",
        "prob +=  .5*Chairs              <= 15\n",
        "prob += 120*Chairs + 200*Tables <= 6000\n",
        "prob +=  10*Chairs +  15*Tables <= 360\n"
      ],
      "metadata": {
        "id": "0ne9KB5IQyFD"
      },
      "execution_count": 31,
      "outputs": []
    },
    {
      "cell_type": "code",
      "source": [
        "# prob.writeLP(\"Chairs_and_Tables.lp\") # Можно сохранить"
      ],
      "metadata": {
        "id": "qhZ1EyAART3b"
      },
      "execution_count": 32,
      "outputs": []
    },
    {
      "cell_type": "code",
      "source": [
        "prob"
      ],
      "metadata": {
        "colab": {
          "base_uri": "https://localhost:8080/"
        },
        "id": "7XVrnf6rSFnF",
        "outputId": "3f8d0bcf-7114-44ff-d746-1bc548172b7b"
      },
      "execution_count": 33,
      "outputs": [
        {
          "output_type": "execute_result",
          "data": {
            "text/plain": [
              "Chairs_and_Tables:\n",
              "MAXIMIZE\n",
              "1000*Chairs + 2000*Tables + 0\n",
              "SUBJECT TO\n",
              "_C1: 5 Chairs + 15 Tables <= 270\n",
              "\n",
              "_C2: 0.5 Chairs <= 15\n",
              "\n",
              "_C3: 120 Chairs + 200 Tables <= 6000\n",
              "\n",
              "_C4: 10 Chairs + 15 Tables <= 360\n",
              "\n",
              "VARIABLES\n",
              "0 <= Chairs Integer\n",
              "0 <= Tables Integer"
            ]
          },
          "metadata": {},
          "execution_count": 33
        }
      ]
    },
    {
      "cell_type": "code",
      "source": [
        "prob.solve()"
      ],
      "metadata": {
        "colab": {
          "base_uri": "https://localhost:8080/"
        },
        "id": "_3or5v10RmAL",
        "outputId": "bf2eac01-5a6d-428a-dee8-f686b779ca9a"
      },
      "execution_count": 34,
      "outputs": [
        {
          "output_type": "execute_result",
          "data": {
            "text/plain": [
              "1"
            ]
          },
          "metadata": {},
          "execution_count": 34
        }
      ]
    },
    {
      "cell_type": "code",
      "source": [
        "print(\"Status:\", pulp.LpStatus[prob.status])"
      ],
      "metadata": {
        "colab": {
          "base_uri": "https://localhost:8080/"
        },
        "id": "ILNdVM3dRrA7",
        "outputId": "85a35a44-7175-4cb3-c383-e7ea748d6090"
      },
      "execution_count": 35,
      "outputs": [
        {
          "output_type": "stream",
          "name": "stdout",
          "text": [
            "Status: Optimal\n"
          ]
        }
      ]
    },
    {
      "cell_type": "code",
      "source": [
        "for v in prob.variables():\n",
        "    print(v.name, \"=\", v.varValue)"
      ],
      "metadata": {
        "colab": {
          "base_uri": "https://localhost:8080/"
        },
        "id": "PNtHc9BHRtPb",
        "outputId": "7b9357e8-b80d-41c2-db0d-92204712e5e0"
      },
      "execution_count": 36,
      "outputs": [
        {
          "output_type": "stream",
          "name": "stdout",
          "text": [
            "Chairs = 18.0\n",
            "Tables = 12.0\n"
          ]
        }
      ]
    },
    {
      "cell_type": "code",
      "source": [
        "print(\"Optimal value = \", pulp.value(prob.objective))"
      ],
      "metadata": {
        "colab": {
          "base_uri": "https://localhost:8080/"
        },
        "id": "bkuTUA2KRwDT",
        "outputId": "028b572e-f2ed-4b07-cdc8-781fc015283c"
      },
      "execution_count": 37,
      "outputs": [
        {
          "output_type": "stream",
          "name": "stdout",
          "text": [
            "Optimal value =  42000.0\n"
          ]
        }
      ]
    },
    {
      "cell_type": "code",
      "source": [],
      "metadata": {
        "id": "faTyH0nxR0Wa"
      },
      "execution_count": null,
      "outputs": []
    }
  ],
  "metadata": {
    "kernelspec": {
      "display_name": "Python 3",
      "language": "python",
      "name": "python3"
    },
    "language_info": {
      "codemirror_mode": {
        "name": "ipython",
        "version": 3
      },
      "file_extension": ".py",
      "mimetype": "text/x-python",
      "name": "python",
      "nbconvert_exporter": "python",
      "pygments_lexer": "ipython3",
      "version": "3.7.3"
    },
    "colab": {
      "provenance": [],
      "include_colab_link": true
    }
  },
  "nbformat": 4,
  "nbformat_minor": 0
}